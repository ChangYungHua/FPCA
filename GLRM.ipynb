{
  "nbformat": 4,
  "nbformat_minor": 0,
  "metadata": {
    "kernelspec": {
      "display_name": "Python 3",
      "language": "python",
      "name": "python3"
    },
    "language_info": {
      "codemirror_mode": {
        "name": "ipython",
        "version": 3
      },
      "file_extension": ".py",
      "mimetype": "text/x-python",
      "name": "python",
      "nbconvert_exporter": "python",
      "pygments_lexer": "ipython3",
      "version": "3.7.7"
    },
    "colab": {
      "name": "GLRM.ipynb",
      "provenance": []
    }
  },
  "cells": [
    {
      "cell_type": "markdown",
      "metadata": {
        "id": "3So3qcCNV9Rr"
      },
      "source": [
        "# import packages and load data"
      ]
    },
    {
      "cell_type": "code",
      "metadata": {
        "id": "6mocUJ5pV9Rt",
        "outputId": "b82d0ab5-4d43-4c95-8d0c-5a6a2ff191bb"
      },
      "source": [
        "import h2o\n",
        "h2o.init()\n",
        "h2o.remove_all()\n",
        "import numpy as np\n",
        "import pandas as pd\n",
        "\n",
        "df = pd.read_csv('../original.csv')\n",
        "df_missing = pd.read_csv('../nan_data.csv')\n",
        "hf = h2o.H2OFrame(df)\n",
        "hf_missing = h2o.H2OFrame(df_missing)"
      ],
      "execution_count": null,
      "outputs": [
        {
          "output_type": "stream",
          "text": [
            "Checking whether there is an H2O instance running at http://localhost:54321 . connected.\n"
          ],
          "name": "stdout"
        },
        {
          "output_type": "display_data",
          "data": {
            "text/html": [
              "<div style=\"overflow:auto\"><table style=\"width:50%\"><tr><td>H2O_cluster_uptime:</td>\n",
              "<td>10 hours 30 mins</td></tr>\n",
              "<tr><td>H2O_cluster_timezone:</td>\n",
              "<td>Asia/Taipei</td></tr>\n",
              "<tr><td>H2O_data_parsing_timezone:</td>\n",
              "<td>UTC</td></tr>\n",
              "<tr><td>H2O_cluster_version:</td>\n",
              "<td>3.30.0.5</td></tr>\n",
              "<tr><td>H2O_cluster_version_age:</td>\n",
              "<td>4 days </td></tr>\n",
              "<tr><td>H2O_cluster_name:</td>\n",
              "<td>H2O_from_python_Derek_mnpn7m</td></tr>\n",
              "<tr><td>H2O_cluster_total_nodes:</td>\n",
              "<td>1</td></tr>\n",
              "<tr><td>H2O_cluster_free_memory:</td>\n",
              "<td>6.427 Gb</td></tr>\n",
              "<tr><td>H2O_cluster_total_cores:</td>\n",
              "<td>24</td></tr>\n",
              "<tr><td>H2O_cluster_allowed_cores:</td>\n",
              "<td>24</td></tr>\n",
              "<tr><td>H2O_cluster_status:</td>\n",
              "<td>locked, healthy</td></tr>\n",
              "<tr><td>H2O_connection_url:</td>\n",
              "<td>http://localhost:54321</td></tr>\n",
              "<tr><td>H2O_connection_proxy:</td>\n",
              "<td>{\"http\": null, \"https\": null}</td></tr>\n",
              "<tr><td>H2O_internal_security:</td>\n",
              "<td>False</td></tr>\n",
              "<tr><td>H2O_API_Extensions:</td>\n",
              "<td>Amazon S3, Algos, AutoML, Core V3, TargetEncoder, Core V4</td></tr>\n",
              "<tr><td>Python_version:</td>\n",
              "<td>3.7.7 final</td></tr></table></div>"
            ],
            "text/plain": [
              "--------------------------  ---------------------------------------------------------\n",
              "H2O_cluster_uptime:         10 hours 30 mins\n",
              "H2O_cluster_timezone:       Asia/Taipei\n",
              "H2O_data_parsing_timezone:  UTC\n",
              "H2O_cluster_version:        3.30.0.5\n",
              "H2O_cluster_version_age:    4 days\n",
              "H2O_cluster_name:           H2O_from_python_Derek_mnpn7m\n",
              "H2O_cluster_total_nodes:    1\n",
              "H2O_cluster_free_memory:    6.427 Gb\n",
              "H2O_cluster_total_cores:    24\n",
              "H2O_cluster_allowed_cores:  24\n",
              "H2O_cluster_status:         locked, healthy\n",
              "H2O_connection_url:         http://localhost:54321\n",
              "H2O_connection_proxy:       {\"http\": null, \"https\": null}\n",
              "H2O_internal_security:      False\n",
              "H2O_API_Extensions:         Amazon S3, Algos, AutoML, Core V3, TargetEncoder, Core V4\n",
              "Python_version:             3.7.7 final\n",
              "--------------------------  ---------------------------------------------------------"
            ]
          },
          "metadata": {
            "tags": []
          }
        },
        {
          "output_type": "stream",
          "text": [
            "Parse progress: |█████████████████████████████████████████████████████████| 100%\n",
            "Parse progress: |█████████████████████████████████████████████████████████| 100%\n"
          ],
          "name": "stdout"
        }
      ]
    },
    {
      "cell_type": "markdown",
      "metadata": {
        "id": "OyCx6wi8V9R2"
      },
      "source": [
        "# Create GLRM　model"
      ]
    },
    {
      "cell_type": "code",
      "metadata": {
        "id": "xbsq_1H3V9R3"
      },
      "source": [
        "from h2o.estimators.glrm import H2OGeneralizedLowRankEstimator\n",
        "\n",
        "model_1 = H2OGeneralizedLowRankEstimator(k=5, transform=\"STANDARDIZE\", init=\"plus_plus\", loss=\"Quadratic\",\n",
        "                                         regularization_x=\"None\", regularization_y=\"None\", max_iterations=3000,\n",
        "                                         min_step_size=1e-6, impute_original=True, ignored_columns=['Unnamed: 0', 'station'])\n"
      ],
      "execution_count": null,
      "outputs": []
    },
    {
      "cell_type": "markdown",
      "metadata": {
        "id": "F-jWveebV9R-"
      },
      "source": [
        "# Train and predict"
      ]
    },
    {
      "cell_type": "code",
      "metadata": {
        "id": "GMXLpXaTV9R_",
        "outputId": "bd838e84-86aa-4f21-f1ba-e6a5061db8b5"
      },
      "source": [
        "model_1.train(training_frame=hf_missing)\n",
        "hf_predict = model_1.predict(hf_missing)"
      ],
      "execution_count": null,
      "outputs": [
        {
          "output_type": "stream",
          "text": [
            "glrm Model Build progress: |██████████████████████████████████████████████| 100%\n",
            "glrm prediction progress: |███████████████████████████████████████████████| 100%\n"
          ],
          "name": "stdout"
        }
      ]
    },
    {
      "cell_type": "markdown",
      "metadata": {
        "id": "BmuDdzWOV9SH"
      },
      "source": [
        "# Output data"
      ]
    },
    {
      "cell_type": "code",
      "metadata": {
        "id": "hq1nD7BSV9SJ",
        "outputId": "aa239cc3-a2bb-4545-97c0-cc6b6ed11569"
      },
      "source": [
        "hf_predict.show()\n",
        "print(hf_predict)\n",
        "test = hf_predict.as_data_frame(use_pandas=True)\n",
        "\n",
        "df_c = pd.concat([df_missing.iloc[:, 0:2], test], axis=1)\n",
        "print(hf_missing)\n",
        "print(hf)"
      ],
      "execution_count": null,
      "outputs": [
        {
          "output_type": "display_data",
          "data": {
            "text/html": [
              "<table>\n",
              "<thead>\n",
              "<tr><th style=\"text-align: right;\">  reconstr_28079008</th><th style=\"text-align: right;\">  reconstr_28079024</th><th style=\"text-align: right;\">  reconstr_28079038</th><th style=\"text-align: right;\">  reconstr_28079047</th><th style=\"text-align: right;\">  reconstr_28079048</th><th style=\"text-align: right;\">  reconstr_28079050</th></tr>\n",
              "</thead>\n",
              "<tbody>\n",
              "<tr><td style=\"text-align: right;\">           22.0251 </td><td style=\"text-align: right;\">           11.8322 </td><td style=\"text-align: right;\">           16.3914 </td><td style=\"text-align: right;\">           17.3992 </td><td style=\"text-align: right;\">           13.5864 </td><td style=\"text-align: right;\">           20.6237 </td></tr>\n",
              "<tr><td style=\"text-align: right;\">           29.9394 </td><td style=\"text-align: right;\">           22.7296 </td><td style=\"text-align: right;\">           26.8331 </td><td style=\"text-align: right;\">           29.8936 </td><td style=\"text-align: right;\">           21.3135 </td><td style=\"text-align: right;\">           19.359  </td></tr>\n",
              "<tr><td style=\"text-align: right;\">           23.0829 </td><td style=\"text-align: right;\">           20.5028 </td><td style=\"text-align: right;\">           17.7827 </td><td style=\"text-align: right;\">           26.453  </td><td style=\"text-align: right;\">           11.4232 </td><td style=\"text-align: right;\">           12.569  </td></tr>\n",
              "<tr><td style=\"text-align: right;\">           13.7443 </td><td style=\"text-align: right;\">           10.8404 </td><td style=\"text-align: right;\">            8.42174</td><td style=\"text-align: right;\">           14.9253 </td><td style=\"text-align: right;\">            3.94093</td><td style=\"text-align: right;\">            8.73492</td></tr>\n",
              "<tr><td style=\"text-align: right;\">            9.93833</td><td style=\"text-align: right;\">            9.47255</td><td style=\"text-align: right;\">            4.62792</td><td style=\"text-align: right;\">           11.444  </td><td style=\"text-align: right;\">            1.24511</td><td style=\"text-align: right;\">            6.64735</td></tr>\n",
              "<tr><td style=\"text-align: right;\">           10.4841 </td><td style=\"text-align: right;\">            8.52586</td><td style=\"text-align: right;\">            5.02632</td><td style=\"text-align: right;\">           11.5993 </td><td style=\"text-align: right;\">            1.12985</td><td style=\"text-align: right;\">            6.95736</td></tr>\n",
              "<tr><td style=\"text-align: right;\">            8.47738</td><td style=\"text-align: right;\">            6.41212</td><td style=\"text-align: right;\">            4.27149</td><td style=\"text-align: right;\">            8.74462</td><td style=\"text-align: right;\">            1.15262</td><td style=\"text-align: right;\">            5.94887</td></tr>\n",
              "<tr><td style=\"text-align: right;\">            8.31954</td><td style=\"text-align: right;\">            5.49268</td><td style=\"text-align: right;\">            4.76033</td><td style=\"text-align: right;\">            8.63114</td><td style=\"text-align: right;\">            1.11344</td><td style=\"text-align: right;\">            4.95603</td></tr>\n",
              "<tr><td style=\"text-align: right;\">           11.6148 </td><td style=\"text-align: right;\">            8.99339</td><td style=\"text-align: right;\">            6.69461</td><td style=\"text-align: right;\">           14.0671 </td><td style=\"text-align: right;\">            1.0105 </td><td style=\"text-align: right;\">            4.99919</td></tr>\n",
              "<tr><td style=\"text-align: right;\">            9.00459</td><td style=\"text-align: right;\">            6.48569</td><td style=\"text-align: right;\">            4.47131</td><td style=\"text-align: right;\">            9.27962</td><td style=\"text-align: right;\">            1.07448</td><td style=\"text-align: right;\">            6.27709</td></tr>\n",
              "</tbody>\n",
              "</table>"
            ]
          },
          "metadata": {
            "tags": []
          }
        },
        {
          "output_type": "display_data",
          "data": {
            "text/html": [
              "<table>\n",
              "<thead>\n",
              "<tr><th style=\"text-align: right;\">  reconstr_28079008</th><th style=\"text-align: right;\">  reconstr_28079024</th><th style=\"text-align: right;\">  reconstr_28079038</th><th style=\"text-align: right;\">  reconstr_28079047</th><th style=\"text-align: right;\">  reconstr_28079048</th><th style=\"text-align: right;\">  reconstr_28079050</th></tr>\n",
              "</thead>\n",
              "<tbody>\n",
              "<tr><td style=\"text-align: right;\">           22.0251 </td><td style=\"text-align: right;\">           11.8322 </td><td style=\"text-align: right;\">           16.3914 </td><td style=\"text-align: right;\">           17.3992 </td><td style=\"text-align: right;\">           13.5864 </td><td style=\"text-align: right;\">           20.6237 </td></tr>\n",
              "<tr><td style=\"text-align: right;\">           29.9394 </td><td style=\"text-align: right;\">           22.7296 </td><td style=\"text-align: right;\">           26.8331 </td><td style=\"text-align: right;\">           29.8936 </td><td style=\"text-align: right;\">           21.3135 </td><td style=\"text-align: right;\">           19.359  </td></tr>\n",
              "<tr><td style=\"text-align: right;\">           23.0829 </td><td style=\"text-align: right;\">           20.5028 </td><td style=\"text-align: right;\">           17.7827 </td><td style=\"text-align: right;\">           26.453  </td><td style=\"text-align: right;\">           11.4232 </td><td style=\"text-align: right;\">           12.569  </td></tr>\n",
              "<tr><td style=\"text-align: right;\">           13.7443 </td><td style=\"text-align: right;\">           10.8404 </td><td style=\"text-align: right;\">            8.42174</td><td style=\"text-align: right;\">           14.9253 </td><td style=\"text-align: right;\">            3.94093</td><td style=\"text-align: right;\">            8.73492</td></tr>\n",
              "<tr><td style=\"text-align: right;\">            9.93833</td><td style=\"text-align: right;\">            9.47255</td><td style=\"text-align: right;\">            4.62792</td><td style=\"text-align: right;\">           11.444  </td><td style=\"text-align: right;\">            1.24511</td><td style=\"text-align: right;\">            6.64735</td></tr>\n",
              "<tr><td style=\"text-align: right;\">           10.4841 </td><td style=\"text-align: right;\">            8.52586</td><td style=\"text-align: right;\">            5.02632</td><td style=\"text-align: right;\">           11.5993 </td><td style=\"text-align: right;\">            1.12985</td><td style=\"text-align: right;\">            6.95736</td></tr>\n",
              "<tr><td style=\"text-align: right;\">            8.47738</td><td style=\"text-align: right;\">            6.41212</td><td style=\"text-align: right;\">            4.27149</td><td style=\"text-align: right;\">            8.74462</td><td style=\"text-align: right;\">            1.15262</td><td style=\"text-align: right;\">            5.94887</td></tr>\n",
              "<tr><td style=\"text-align: right;\">            8.31954</td><td style=\"text-align: right;\">            5.49268</td><td style=\"text-align: right;\">            4.76033</td><td style=\"text-align: right;\">            8.63114</td><td style=\"text-align: right;\">            1.11344</td><td style=\"text-align: right;\">            4.95603</td></tr>\n",
              "<tr><td style=\"text-align: right;\">           11.6148 </td><td style=\"text-align: right;\">            8.99339</td><td style=\"text-align: right;\">            6.69461</td><td style=\"text-align: right;\">           14.0671 </td><td style=\"text-align: right;\">            1.0105 </td><td style=\"text-align: right;\">            4.99919</td></tr>\n",
              "<tr><td style=\"text-align: right;\">            9.00459</td><td style=\"text-align: right;\">            6.48569</td><td style=\"text-align: right;\">            4.47131</td><td style=\"text-align: right;\">            9.27962</td><td style=\"text-align: right;\">            1.07448</td><td style=\"text-align: right;\">            6.27709</td></tr>\n",
              "</tbody>\n",
              "</table>"
            ]
          },
          "metadata": {
            "tags": []
          }
        },
        {
          "output_type": "stream",
          "text": [
            "\n"
          ],
          "name": "stdout"
        },
        {
          "output_type": "display_data",
          "data": {
            "text/html": [
              "<table>\n",
              "<thead>\n",
              "<tr><th style=\"text-align: right;\">  Unnamed: 0</th><th>station            </th><th style=\"text-align: right;\">  28079008</th><th style=\"text-align: right;\">  28079024</th><th style=\"text-align: right;\">  28079038</th><th style=\"text-align: right;\">  28079047</th><th style=\"text-align: right;\">  28079048</th><th style=\"text-align: right;\">  28079050</th></tr>\n",
              "</thead>\n",
              "<tbody>\n",
              "<tr><td style=\"text-align: right;\">           1</td><td>2011-01-01 01:00:00</td><td style=\"text-align: right;\">        18</td><td style=\"text-align: right;\">        12</td><td style=\"text-align: right;\">        24</td><td style=\"text-align: right;\">       nan</td><td style=\"text-align: right;\">         9</td><td style=\"text-align: right;\">        22</td></tr>\n",
              "<tr><td style=\"text-align: right;\">           2</td><td>2011-01-01 02:00:00</td><td style=\"text-align: right;\">        28</td><td style=\"text-align: right;\">        25</td><td style=\"text-align: right;\">        27</td><td style=\"text-align: right;\">        28</td><td style=\"text-align: right;\">        21</td><td style=\"text-align: right;\">        20</td></tr>\n",
              "<tr><td style=\"text-align: right;\">           3</td><td>2011-01-01 03:00:00</td><td style=\"text-align: right;\">        22</td><td style=\"text-align: right;\">        24</td><td style=\"text-align: right;\">        16</td><td style=\"text-align: right;\">        23</td><td style=\"text-align: right;\">        12</td><td style=\"text-align: right;\">        13</td></tr>\n",
              "<tr><td style=\"text-align: right;\">           4</td><td>2011-01-01 04:00:00</td><td style=\"text-align: right;\">        13</td><td style=\"text-align: right;\">       nan</td><td style=\"text-align: right;\">        10</td><td style=\"text-align: right;\">        15</td><td style=\"text-align: right;\">         3</td><td style=\"text-align: right;\">         9</td></tr>\n",
              "<tr><td style=\"text-align: right;\">           5</td><td>2011-01-01 05:00:00</td><td style=\"text-align: right;\">         9</td><td style=\"text-align: right;\">        11</td><td style=\"text-align: right;\">       nan</td><td style=\"text-align: right;\">        10</td><td style=\"text-align: right;\">         1</td><td style=\"text-align: right;\">         7</td></tr>\n",
              "<tr><td style=\"text-align: right;\">           6</td><td>2011-01-01 06:00:00</td><td style=\"text-align: right;\">       nan</td><td style=\"text-align: right;\">         9</td><td style=\"text-align: right;\">       nan</td><td style=\"text-align: right;\">        11</td><td style=\"text-align: right;\">         1</td><td style=\"text-align: right;\">         7</td></tr>\n",
              "<tr><td style=\"text-align: right;\">           7</td><td>2011-01-01 07:00:00</td><td style=\"text-align: right;\">       nan</td><td style=\"text-align: right;\">         7</td><td style=\"text-align: right;\">       nan</td><td style=\"text-align: right;\">         8</td><td style=\"text-align: right;\">         1</td><td style=\"text-align: right;\">         6</td></tr>\n",
              "<tr><td style=\"text-align: right;\">           8</td><td>2011-01-01 08:00:00</td><td style=\"text-align: right;\">       nan</td><td style=\"text-align: right;\">         6</td><td style=\"text-align: right;\">       nan</td><td style=\"text-align: right;\">         8</td><td style=\"text-align: right;\">         1</td><td style=\"text-align: right;\">         5</td></tr>\n",
              "<tr><td style=\"text-align: right;\">           9</td><td>2011-01-01 09:00:00</td><td style=\"text-align: right;\">       nan</td><td style=\"text-align: right;\">         9</td><td style=\"text-align: right;\">       nan</td><td style=\"text-align: right;\">       nan</td><td style=\"text-align: right;\">         1</td><td style=\"text-align: right;\">         5</td></tr>\n",
              "<tr><td style=\"text-align: right;\">          10</td><td>2011-01-01 10:00:00</td><td style=\"text-align: right;\">        10</td><td style=\"text-align: right;\">         6</td><td style=\"text-align: right;\">       nan</td><td style=\"text-align: right;\">       nan</td><td style=\"text-align: right;\">         1</td><td style=\"text-align: right;\">         6</td></tr>\n",
              "</tbody>\n",
              "</table>"
            ]
          },
          "metadata": {
            "tags": []
          }
        },
        {
          "output_type": "stream",
          "text": [
            "\n"
          ],
          "name": "stdout"
        },
        {
          "output_type": "display_data",
          "data": {
            "text/html": [
              "<table>\n",
              "<thead>\n",
              "<tr><th style=\"text-align: right;\">  Unnamed: 0</th><th>station            </th><th style=\"text-align: right;\">  28079008</th><th style=\"text-align: right;\">  28079024</th><th style=\"text-align: right;\">  28079038</th><th style=\"text-align: right;\">  28079047</th><th style=\"text-align: right;\">  28079048</th><th style=\"text-align: right;\">  28079050</th></tr>\n",
              "</thead>\n",
              "<tbody>\n",
              "<tr><td style=\"text-align: right;\">           1</td><td>2011-01-01 01:00:00</td><td style=\"text-align: right;\">        18</td><td style=\"text-align: right;\">        12</td><td style=\"text-align: right;\">        24</td><td style=\"text-align: right;\">       nan</td><td style=\"text-align: right;\">         9</td><td style=\"text-align: right;\">        22</td></tr>\n",
              "<tr><td style=\"text-align: right;\">           2</td><td>2011-01-01 02:00:00</td><td style=\"text-align: right;\">        28</td><td style=\"text-align: right;\">        25</td><td style=\"text-align: right;\">        27</td><td style=\"text-align: right;\">        28</td><td style=\"text-align: right;\">        21</td><td style=\"text-align: right;\">        20</td></tr>\n",
              "<tr><td style=\"text-align: right;\">           3</td><td>2011-01-01 03:00:00</td><td style=\"text-align: right;\">        22</td><td style=\"text-align: right;\">        24</td><td style=\"text-align: right;\">        16</td><td style=\"text-align: right;\">        23</td><td style=\"text-align: right;\">        12</td><td style=\"text-align: right;\">        13</td></tr>\n",
              "<tr><td style=\"text-align: right;\">           4</td><td>2011-01-01 04:00:00</td><td style=\"text-align: right;\">        13</td><td style=\"text-align: right;\">        12</td><td style=\"text-align: right;\">        10</td><td style=\"text-align: right;\">        15</td><td style=\"text-align: right;\">         3</td><td style=\"text-align: right;\">         9</td></tr>\n",
              "<tr><td style=\"text-align: right;\">           5</td><td>2011-01-01 05:00:00</td><td style=\"text-align: right;\">         9</td><td style=\"text-align: right;\">        11</td><td style=\"text-align: right;\">         7</td><td style=\"text-align: right;\">        10</td><td style=\"text-align: right;\">         1</td><td style=\"text-align: right;\">         7</td></tr>\n",
              "<tr><td style=\"text-align: right;\">           6</td><td>2011-01-01 06:00:00</td><td style=\"text-align: right;\">         9</td><td style=\"text-align: right;\">         9</td><td style=\"text-align: right;\">         7</td><td style=\"text-align: right;\">        11</td><td style=\"text-align: right;\">         1</td><td style=\"text-align: right;\">         7</td></tr>\n",
              "<tr><td style=\"text-align: right;\">           7</td><td>2011-01-01 07:00:00</td><td style=\"text-align: right;\">         7</td><td style=\"text-align: right;\">         7</td><td style=\"text-align: right;\">         6</td><td style=\"text-align: right;\">         8</td><td style=\"text-align: right;\">         1</td><td style=\"text-align: right;\">         6</td></tr>\n",
              "<tr><td style=\"text-align: right;\">           8</td><td>2011-01-01 08:00:00</td><td style=\"text-align: right;\">         6</td><td style=\"text-align: right;\">         6</td><td style=\"text-align: right;\">         6</td><td style=\"text-align: right;\">         8</td><td style=\"text-align: right;\">         1</td><td style=\"text-align: right;\">         5</td></tr>\n",
              "<tr><td style=\"text-align: right;\">           9</td><td>2011-01-01 09:00:00</td><td style=\"text-align: right;\">         7</td><td style=\"text-align: right;\">         9</td><td style=\"text-align: right;\">        10</td><td style=\"text-align: right;\">         9</td><td style=\"text-align: right;\">         1</td><td style=\"text-align: right;\">         5</td></tr>\n",
              "<tr><td style=\"text-align: right;\">          10</td><td>2011-01-01 10:00:00</td><td style=\"text-align: right;\">        10</td><td style=\"text-align: right;\">         6</td><td style=\"text-align: right;\">         9</td><td style=\"text-align: right;\">         8</td><td style=\"text-align: right;\">         1</td><td style=\"text-align: right;\">         6</td></tr>\n",
              "</tbody>\n",
              "</table>"
            ]
          },
          "metadata": {
            "tags": []
          }
        },
        {
          "output_type": "stream",
          "text": [
            "\n"
          ],
          "name": "stdout"
        }
      ]
    },
    {
      "cell_type": "markdown",
      "metadata": {
        "id": "FvtONuOAV9SQ"
      },
      "source": [
        "# Find missing value location"
      ]
    },
    {
      "cell_type": "code",
      "metadata": {
        "id": "92JOR4EuV9SR",
        "outputId": "88889a84-2e19-417a-a6eb-84e39406ac10"
      },
      "source": [
        "hf_predict = h2o.H2OFrame(df_c)\n",
        "df_c.to_csv(r'predict_all.csv', index = False)\n",
        "def find_missing(all_data, df_miss, name):\n",
        "    k = h2o.as_list(all_data).values.reshape(-1)\n",
        "    k1 = np.isnan(h2o.as_list(df_miss).values.reshape(-1))\n",
        "    k = h2o.H2OFrame(k[k1])\n",
        "    k.names = [name]\n",
        "    return k\n",
        "\n",
        "\n",
        "from h2o.model.regression import *\n",
        "\n",
        "label = find_missing(hf, hf_missing, 'label')\n",
        "predict = find_missing(hf_predict, hf_missing, 'predict')\n",
        "prediction = predict.cbind(label)\n",
        "print(prediction)"
      ],
      "execution_count": null,
      "outputs": [
        {
          "output_type": "stream",
          "text": [
            "Parse progress: |█████████████████████████████████████████████████████████| 100%\n",
            "Parse progress: |█████████████████████████████████████████████████████████| 100%\n",
            "Parse progress: |█████████████████████████████████████████████████████████| 100%\n"
          ],
          "name": "stdout"
        },
        {
          "output_type": "display_data",
          "data": {
            "text/html": [
              "<table>\n",
              "<thead>\n",
              "<tr><th style=\"text-align: right;\">  predict</th><th style=\"text-align: right;\">  label</th></tr>\n",
              "</thead>\n",
              "<tbody>\n",
              "<tr><td style=\"text-align: right;\"> 17.3992 </td><td style=\"text-align: right;\">    nan</td></tr>\n",
              "<tr><td style=\"text-align: right;\"> 10.8404 </td><td style=\"text-align: right;\">     12</td></tr>\n",
              "<tr><td style=\"text-align: right;\">  4.62792</td><td style=\"text-align: right;\">      7</td></tr>\n",
              "<tr><td style=\"text-align: right;\"> 10.4841 </td><td style=\"text-align: right;\">      9</td></tr>\n",
              "<tr><td style=\"text-align: right;\">  5.02632</td><td style=\"text-align: right;\">      7</td></tr>\n",
              "<tr><td style=\"text-align: right;\">  8.47738</td><td style=\"text-align: right;\">      7</td></tr>\n",
              "<tr><td style=\"text-align: right;\">  4.27149</td><td style=\"text-align: right;\">      6</td></tr>\n",
              "<tr><td style=\"text-align: right;\">  8.31954</td><td style=\"text-align: right;\">      6</td></tr>\n",
              "<tr><td style=\"text-align: right;\">  4.76033</td><td style=\"text-align: right;\">      6</td></tr>\n",
              "<tr><td style=\"text-align: right;\"> 11.6148 </td><td style=\"text-align: right;\">      7</td></tr>\n",
              "</tbody>\n",
              "</table>"
            ]
          },
          "metadata": {
            "tags": []
          }
        },
        {
          "output_type": "stream",
          "text": [
            "\n"
          ],
          "name": "stdout"
        }
      ]
    },
    {
      "cell_type": "markdown",
      "metadata": {
        "id": "ybkKCZjIV9SY"
      },
      "source": [
        "# Output data\n",
        "# Replace data 0 if value <=0"
      ]
    },
    {
      "cell_type": "code",
      "metadata": {
        "id": "vUB8IAvzV9SZ",
        "outputId": "cdb70f41-bb6a-4f1b-f5e1-0222c661bbe0"
      },
      "source": [
        "hf_miss_predict = prediction.as_data_frame(use_pandas=True)\n",
        "a = hf_miss_predict.dropna()\n",
        "\n",
        "print(a)\n",
        "mse = ((a.iloc[:, 0] - a.iloc[:, 1])**2).mean()\n",
        "a.to_csv(r'a.csv', index = False)\n",
        "\n",
        "\n",
        "df = pd.read_csv('predict_all.csv')\n",
        "print(df)\n",
        "\n",
        "df.iloc[:, 2:] = df.iloc[:,2:].mask(df.iloc[:,2:] <=0, 0)\n",
        "print(df)\n",
        "df.to_csv(r'predict_all_miss.csv', index = False)"
      ],
      "execution_count": null,
      "outputs": [
        {
          "output_type": "stream",
          "text": [
            "        predict  label\n",
            "1     10.840441   12.0\n",
            "2      4.627925    7.0\n",
            "3     10.484116    9.0\n",
            "4      5.026320    7.0\n",
            "5      8.477378    7.0\n",
            "...         ...    ...\n",
            "6461  11.354664    7.0\n",
            "6462   7.584619    5.0\n",
            "6463   4.383414    6.0\n",
            "6464   8.486429    7.0\n",
            "6465   7.781344    7.0\n",
            "\n",
            "[6307 rows x 2 columns]\n",
            "       Unnamed: 0              station  reconstr_28079008  reconstr_28079024  \\\n",
            "0               1  2011-01-01 01:00:00          22.025068          11.832152   \n",
            "1               2  2011-01-01 02:00:00          29.939444          22.729553   \n",
            "2               3  2011-01-01 03:00:00          23.082879          20.502796   \n",
            "3               4  2011-01-01 04:00:00          13.744340          10.840441   \n",
            "4               5  2011-01-01 05:00:00           9.938331           9.472553   \n",
            "...           ...                  ...                ...                ...   \n",
            "26299       26300  2013-12-31 20:00:00           6.827660           7.002863   \n",
            "26300       26301  2013-12-31 21:00:00           6.276740           5.220746   \n",
            "26301       26302  2013-12-31 22:00:00           6.328766           4.276203   \n",
            "26302       26303  2013-12-31 23:00:00           6.572432           2.876917   \n",
            "26303       26304  2014-01-01 00:00:00           6.824446           0.685656   \n",
            "\n",
            "       reconstr_28079038  reconstr_28079047  reconstr_28079048  \\\n",
            "0              16.391352          17.399234          13.586438   \n",
            "1              26.833145          29.893647          21.313502   \n",
            "2              17.782722          26.452959          11.423200   \n",
            "3               8.421739          14.925292           3.940930   \n",
            "4               4.627925          11.444024           1.245112   \n",
            "...                  ...                ...                ...   \n",
            "26299           5.717988           3.799864           7.451232   \n",
            "26300           3.974905           3.932932           4.189793   \n",
            "26301           4.099717           4.095977           3.571852   \n",
            "26302           4.551564           5.123954           2.165827   \n",
            "26303           4.945598           6.173707           0.187966   \n",
            "\n",
            "       reconstr_28079050  \n",
            "0              20.623726  \n",
            "1              19.359038  \n",
            "2              12.568985  \n",
            "3               8.734915  \n",
            "4               6.647353  \n",
            "...                  ...  \n",
            "26299           9.128169  \n",
            "26300           7.745784  \n",
            "26301           7.035213  \n",
            "26302           5.009196  \n",
            "26303           2.564100  \n",
            "\n",
            "[26304 rows x 8 columns]\n",
            "       Unnamed: 0              station  reconstr_28079008  reconstr_28079024  \\\n",
            "0               1  2011-01-01 01:00:00          22.025068          11.832152   \n",
            "1               2  2011-01-01 02:00:00          29.939444          22.729553   \n",
            "2               3  2011-01-01 03:00:00          23.082879          20.502796   \n",
            "3               4  2011-01-01 04:00:00          13.744340          10.840441   \n",
            "4               5  2011-01-01 05:00:00           9.938331           9.472553   \n",
            "...           ...                  ...                ...                ...   \n",
            "26299       26300  2013-12-31 20:00:00           6.827660           7.002863   \n",
            "26300       26301  2013-12-31 21:00:00           6.276740           5.220746   \n",
            "26301       26302  2013-12-31 22:00:00           6.328766           4.276203   \n",
            "26302       26303  2013-12-31 23:00:00           6.572432           2.876917   \n",
            "26303       26304  2014-01-01 00:00:00           6.824446           0.685656   \n",
            "\n",
            "       reconstr_28079038  reconstr_28079047  reconstr_28079048  \\\n",
            "0              16.391352          17.399234          13.586438   \n",
            "1              26.833145          29.893647          21.313502   \n",
            "2              17.782722          26.452959          11.423200   \n",
            "3               8.421739          14.925292           3.940930   \n",
            "4               4.627925          11.444024           1.245112   \n",
            "...                  ...                ...                ...   \n",
            "26299           5.717988           3.799864           7.451232   \n",
            "26300           3.974905           3.932932           4.189793   \n",
            "26301           4.099717           4.095977           3.571852   \n",
            "26302           4.551564           5.123954           2.165827   \n",
            "26303           4.945598           6.173707           0.187966   \n",
            "\n",
            "       reconstr_28079050  \n",
            "0              20.623726  \n",
            "1              19.359038  \n",
            "2              12.568985  \n",
            "3               8.734915  \n",
            "4               6.647353  \n",
            "...                  ...  \n",
            "26299           9.128169  \n",
            "26300           7.745784  \n",
            "26301           7.035213  \n",
            "26302           5.009196  \n",
            "26303           2.564100  \n",
            "\n",
            "[26304 rows x 8 columns]\n"
          ],
          "name": "stdout"
        }
      ]
    },
    {
      "cell_type": "code",
      "metadata": {
        "id": "miv0U8uSV9Si"
      },
      "source": [
        ""
      ],
      "execution_count": null,
      "outputs": []
    }
  ]
}